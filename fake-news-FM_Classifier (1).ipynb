{
 "cells": [
  {
   "cell_type": "code",
   "execution_count": 1,
   "metadata": {
    "_cell_guid": "b1076dfc-b9ad-4769-8c92-a6c4dae69d19",
    "_uuid": "8f2839f25d086af736a60e9eeb907d3b93b6e0e5"
   },
   "outputs": [
    {
     "name": "stdout",
     "output_type": "stream",
     "text": [
      "Collecting pyspark\n",
      "  Downloading pyspark-3.1.1.tar.gz (212.3 MB)\n",
      "\u001b[K     |████████████████████████████████| 212.3 MB 13 kB/s s eta 0:00:01  |█▍                              | 9.3 MB 1.2 MB/s eta 0:02:43     |██████████████████████████████  | 198.6 MB 57.3 MB/s eta 0:00:01\n",
      "\u001b[?25hCollecting py4j==0.10.9\n",
      "  Downloading py4j-0.10.9-py2.py3-none-any.whl (198 kB)\n",
      "\u001b[K     |████████████████████████████████| 198 kB 58.9 MB/s eta 0:00:01\n",
      "\u001b[?25hBuilding wheels for collected packages: pyspark\n",
      "  Building wheel for pyspark (setup.py) ... \u001b[?25ldone\n",
      "\u001b[?25h  Created wheel for pyspark: filename=pyspark-3.1.1-py2.py3-none-any.whl size=212767604 sha256=444ff54ec990183cf24a8451040314d0bbeaf75b8cd8de2d827e85b762996deb\n",
      "  Stored in directory: /root/.cache/pip/wheels/43/47/42/bc413c760cf9d3f7b46ab7cd6590e8c47ebfd19a7386cd4a57\n",
      "Successfully built pyspark\n",
      "Installing collected packages: py4j, pyspark\n",
      "Successfully installed py4j-0.10.9 pyspark-3.1.1\n",
      "Get:1 http://packages.cloud.google.com/apt gcsfuse-bionic InRelease [5394 B]\n",
      "Get:2 http://packages.cloud.google.com/apt cloud-sdk-bionic InRelease [6780 B] \n",
      "Get:3 http://security.ubuntu.com/ubuntu bionic-security InRelease [88.7 kB]    \n",
      "Get:4 http://packages.cloud.google.com/apt cloud-sdk InRelease [6739 B]        \n",
      "Get:5 http://packages.cloud.google.com/apt gcsfuse-bionic/main amd64 Packages [2649 B]\n",
      "Hit:6 http://archive.ubuntu.com/ubuntu bionic InRelease                        \n",
      "Get:7 http://packages.cloud.google.com/apt cloud-sdk-bionic/main amd64 Packages [181 kB]\n",
      "Get:8 http://archive.ubuntu.com/ubuntu bionic-updates InRelease [88.7 kB]      \n",
      "Get:9 http://packages.cloud.google.com/apt cloud-sdk/main amd64 Packages [162 kB]\n",
      "Get:10 http://security.ubuntu.com/ubuntu bionic-security/main amd64 Packages [2119 kB]\n",
      "Get:11 http://archive.ubuntu.com/ubuntu bionic-backports InRelease [74.6 kB]   \n",
      "Get:12 http://archive.ubuntu.com/ubuntu bionic-updates/universe amd64 Packages [2181 kB]\n",
      "Get:13 http://security.ubuntu.com/ubuntu bionic-security/restricted amd64 Packages [399 kB]\n",
      "Get:14 http://security.ubuntu.com/ubuntu bionic-security/multiverse amd64 Packages [24.7 kB]\n",
      "Get:15 http://security.ubuntu.com/ubuntu bionic-security/universe amd64 Packages [1410 kB]\n",
      "Get:16 http://archive.ubuntu.com/ubuntu bionic-updates/main amd64 Packages [2550 kB]\n",
      "Get:17 http://archive.ubuntu.com/ubuntu bionic-updates/restricted amd64 Packages [429 kB]\n",
      "Get:18 http://archive.ubuntu.com/ubuntu bionic-updates/multiverse amd64 Packages [31.6 kB]\n",
      "Fetched 9761 kB in 2s (4377 kB/s)                       \n",
      "Reading package lists... Done\n",
      "Reading package lists... Done\n",
      "Building dependency tree       \n",
      "Reading state information... Done\n",
      "The following package was automatically installed and is no longer required:\n",
      "  libxtst6\n",
      "Use 'apt autoremove' to remove it.\n",
      "Suggested packages:\n",
      "  libnss-mdns fonts-dejavu-extra fonts-ipafont-gothic fonts-ipafont-mincho\n",
      "  fonts-wqy-microhei | fonts-wqy-zenhei fonts-indic\n",
      "The following packages will be upgraded:\n",
      "  openjdk-11-jre-headless\n",
      "1 upgraded, 0 newly installed, 0 to remove and 40 not upgraded.\n",
      "Need to get 37.2 MB of archives.\n",
      "After this operation, 1435 kB disk space will be freed.\n",
      "Get:1 http://archive.ubuntu.com/ubuntu bionic-updates/main amd64 openjdk-11-jre-headless amd64 11.0.11+9-0ubuntu2~18.04 [37.2 MB]\n",
      "Fetched 37.2 MB in 5s (8199 kB/s)                  \u001b[0m33m\u001b[33m\u001b[33m\u001b[33m\u001b[33m\u001b[33m\u001b[33m\u001b[33m\u001b[33m\n",
      "debconf: delaying package configuration, since apt-utils is not installed\n",
      "\n",
      "(Reading database ... 95165 files and directories currently installed.)\n",
      "Preparing to unpack .../openjdk-11-jre-headless_11.0.11+9-0ubuntu2~18.04_amd64.deb ...\n",
      "\u001b7\u001b[24;0f\u001b[42m\u001b[30mProgress: [  0%]\u001b[49m\u001b[39m [..........................................................] \u001b8\u001b7\u001b[24;0f\u001b[42m\u001b[30mProgress: [ 17%]\u001b[49m\u001b[39m [#########.................................................] \u001b8Unpacking openjdk-11-jre-headless:amd64 (11.0.11+9-0ubuntu2~18.04) over (11.0.10+9-0ubuntu1~18.04) ...\n",
      "\u001b7\u001b[24;0f\u001b[42m\u001b[30mProgress: [ 33%]\u001b[49m\u001b[39m [###################.......................................] \u001b8\u001b7\u001b[24;0f\u001b[42m\u001b[30mProgress: [ 50%]\u001b[49m\u001b[39m [#############################.............................] \u001b8Setting up openjdk-11-jre-headless:amd64 (11.0.11+9-0ubuntu2~18.04) ...\n",
      "Installing new version of config file /etc/java-11-openjdk/security/default.policy ...\n",
      "Installing new version of config file /etc/java-11-openjdk/security/java.security ...\n",
      "\u001b7\u001b[24;0f\u001b[42m\u001b[30mProgress: [ 67%]\u001b[49m\u001b[39m [######################################....................] \u001b8update-alternatives: warning: alternative /usr/lib/jvm/java-11-openjdk-amd64/bin/jfr (part of link group jfr) doesn't exist; removing from list of alternatives\n",
      "update-alternatives: warning: /etc/alternatives/jfr is dangling; it will be updated with best choice\n",
      "\u001b7\u001b[24;0f\u001b[42m\u001b[30mProgress: [ 83%]\u001b[49m\u001b[39m [################################################..........] \u001b8\n",
      "\u001b7\u001b[0;24r\u001b8\u001b[1A\u001b[J"
     ]
    }
   ],
   "source": [
    "!pip install pyspark\n",
    "!apt-get update\n",
    "! apt install -y openjdk-11-jre-headless\n",
    "#! apt install -y openjdk-11-jdk openjdk-8-jre"
   ]
  },
  {
   "cell_type": "code",
   "execution_count": 2,
   "metadata": {},
   "outputs": [
    {
     "name": "stdout",
     "output_type": "stream",
     "text": [
      "openjdk version \"11.0.11\" 2021-04-20\n",
      "OpenJDK Runtime Environment (build 11.0.11+9-Ubuntu-0ubuntu2.18.04)\n",
      "OpenJDK 64-Bit Server VM (build 11.0.11+9-Ubuntu-0ubuntu2.18.04, mixed mode, sharing)\n"
     ]
    }
   ],
   "source": [
    "!java -version"
   ]
  },
  {
   "cell_type": "code",
   "execution_count": 3,
   "metadata": {},
   "outputs": [],
   "source": [
    "import pandas as pd\n",
    "from pyspark import SparkContext\n",
    "from pyspark.sql import SparkSession, SQLContext\n",
    "\n",
    "sc= SparkContext(master= 'local', appName= 'Fake and real news(2)')\n",
    "ss= SparkSession(sc)"
   ]
  },
  {
   "cell_type": "code",
   "execution_count": 4,
   "metadata": {},
   "outputs": [],
   "source": [
    "from pyspark.sql.types import StringType, StructField, StructType\n",
    "def read_data(path):\n",
    "  schema= StructType(\n",
    "      [StructField('title',StringType(),True),\n",
    "      StructField('text',StringType(),True),\n",
    "      StructField('subject',StringType(),True),\n",
    "      StructField('date',StringType(),True)])\n",
    "  pd_df= pd.read_csv(path)\n",
    "  sp_df= ss.createDataFrame(pd_df, schema= schema)\n",
    "  return sp_df"
   ]
  },
  {
   "cell_type": "code",
   "execution_count": 5,
   "metadata": {},
   "outputs": [],
   "source": [
    "path_true= '/kaggle/input/fake-and-real-news-dataset/True.csv'\n",
    "path_fake= '/kaggle/input/fake-and-real-news-dataset/Fake.csv'\n",
    "true_df= read_data(path_true)\n",
    "fake_df= read_data(path_fake)"
   ]
  },
  {
   "cell_type": "code",
   "execution_count": 6,
   "metadata": {},
   "outputs": [
    {
     "data": {
      "text/plain": [
       "21417"
      ]
     },
     "execution_count": 6,
     "metadata": {},
     "output_type": "execute_result"
    }
   ],
   "source": [
    "true_df.count()"
   ]
  },
  {
   "cell_type": "code",
   "execution_count": 7,
   "metadata": {},
   "outputs": [
    {
     "data": {
      "text/plain": [
       "23481"
      ]
     },
     "execution_count": 7,
     "metadata": {},
     "output_type": "execute_result"
    }
   ],
   "source": [
    "fake_df.count()"
   ]
  },
  {
   "cell_type": "code",
   "execution_count": 8,
   "metadata": {},
   "outputs": [],
   "source": [
    "from pyspark.sql.functions import lit, rand\n",
    "data= true_df.withColumn('fake', lit(0)).union(fake_df.withColumn('fake', lit(1))).orderBy(rand())"
   ]
  },
  {
   "cell_type": "code",
   "execution_count": 9,
   "metadata": {},
   "outputs": [
    {
     "name": "stdout",
     "output_type": "stream",
     "text": [
      "+----+-----+\n",
      "|fake|count|\n",
      "+----+-----+\n",
      "|   1|23481|\n",
      "|   0|21417|\n",
      "+----+-----+\n",
      "\n"
     ]
    }
   ],
   "source": [
    "data.groupBy('fake').count().show()"
   ]
  },
  {
   "cell_type": "code",
   "execution_count": 10,
   "metadata": {},
   "outputs": [
    {
     "name": "stdout",
     "output_type": "stream",
     "text": [
      "+---------------+\n",
      "|        subject|\n",
      "+---------------+\n",
      "|        US_News|\n",
      "|      left-news|\n",
      "|      worldnews|\n",
      "|       politics|\n",
      "|   politicsNews|\n",
      "|Government News|\n",
      "|    Middle-east|\n",
      "|           News|\n",
      "+---------------+\n",
      "\n"
     ]
    }
   ],
   "source": [
    "data.select('subject').distinct().show()"
   ]
  },
  {
   "cell_type": "code",
   "execution_count": 11,
   "metadata": {},
   "outputs": [
    {
     "name": "stdout",
     "output_type": "stream",
     "text": [
      "+--------------------+--------------------+------------+------------------+----+\n",
      "|               title|                text|     subject|              date|fake|\n",
      "+--------------------+--------------------+------------+------------------+----+\n",
      "|BOOM! SENATOR LIN...|Senator Lindsey G...|    politics|      May 18, 2017|   1|\n",
      "|U.S. says Turkish...|NEW YORK (Reuters...|   worldnews| November 3, 2017 |   0|\n",
      "|Lesbians4Hillary?...|Yep Hillary s now...|   left-news|      Apr 14, 2015|   1|\n",
      "| Trump Advisor’s ...|This morning, CNN...|        News| December 14, 2016|   1|\n",
      "|THE LEFT AND JK R...|JK Rowling and th...|    politics|      Jul 28, 2017|   1|\n",
      "|CATHOLIC BISHOP O...|Hillary s been us...|    politics|      Oct 15, 2016|   1|\n",
      "|TENNESSEE: ARMED ...|Feel good story o...|   left-news|      Jun 16, 2017|   1|\n",
      "|NRA calls for mor...|WASHINGTON (Reute...|politicsNews|  October 5, 2017 |   0|\n",
      "|Saudi Arabia, U.S...|RIYADH (Reuters) ...|politicsNews|December 18, 2016 |   0|\n",
      "| Trump-Supporting...|Meet William Quay...|        News|   October 2, 2016|   1|\n",
      "+--------------------+--------------------+------------+------------------+----+\n",
      "only showing top 10 rows\n",
      "\n"
     ]
    }
   ],
   "source": [
    "data.show(10)"
   ]
  },
  {
   "cell_type": "code",
   "execution_count": 12,
   "metadata": {},
   "outputs": [],
   "source": [
    "from pyspark.ml.feature import SQLTransformer, RegexTokenizer, StopWordsRemover, CountVectorizer, Imputer, IDF\n",
    "from pyspark.ml.feature import StringIndexer, VectorAssembler\n",
    "StopWordsRemover.loadDefaultStopWords('english')\n",
    "\n",
    "# 0. Extract tokens from title\n",
    "title_tokenizer= RegexTokenizer(inputCol= 'title', outputCol= 'title_words',\n",
    "                                pattern= '\\\\W', toLowercase= True)\n",
    "# 1. Remove stop words from title\n",
    "title_sw_remover= StopWordsRemover(inputCol= 'title_words', outputCol= 'title_sw_removed')\n",
    "# 2. Compute Term frequency from title\n",
    "title_count_vectorizer= CountVectorizer(inputCol= 'title_sw_removed', outputCol= 'tf_title')\n",
    "# 3. Compute Term frequency-inverse document frequency from title\n",
    "title_tfidf= IDF(inputCol= 'tf_title', outputCol= 'tf_idf_title')\n",
    "# 4. Extract tokens from text\n",
    "text_tokenizer= RegexTokenizer(inputCol= 'text', outputCol= 'text_words',\n",
    "                                pattern= '\\\\W', toLowercase= True)\n",
    "# 5. Remove stop words from text\n",
    "text_sw_remover= StopWordsRemover(inputCol= 'text_words', outputCol= 'text_sw_removed')\n",
    "# 6. Compute Term frequency from text\n",
    "text_count_vectorizer= CountVectorizer(inputCol= 'text_sw_removed', outputCol= 'tf_text')\n",
    "# 7. Compute Term frequency-inverse document frequency text\n",
    "text_tfidf= IDF(inputCol= 'tf_text', outputCol= 'tf_idf_text')\n",
    "# 8. StringIndexer subject\n",
    "subject_str_indexer= StringIndexer(inputCol= 'subject', outputCol= 'subject_idx')\n",
    "# 9. VectorAssembler\n",
    "vec_assembler= VectorAssembler(inputCols=['tf_idf_title', 'tf_idf_text', 'subject_idx'], outputCol= 'features')"
   ]
  },
  {
   "cell_type": "code",
   "execution_count": 18,
   "metadata": {},
   "outputs": [],
   "source": [
    "from pyspark.ml.classification import FMClassifier\n",
    "\n",
    "\n",
    "rf = FMClassifier(featuresCol= 'features', labelCol= 'fake', predictionCol= 'fake_predict', stepSize = 0.01, maxIter=30)"
   ]
  },
  {
   "cell_type": "code",
   "execution_count": 19,
   "metadata": {},
   "outputs": [],
   "source": [
    "from pyspark.ml import Pipeline\n",
    "rf_pipe= Pipeline(stages=[title_tokenizer, # 0\n",
    "                title_sw_remover, # 1\n",
    "                title_count_vectorizer, # 2\n",
    "                title_tfidf, # 3\n",
    "                text_tokenizer, # 4\n",
    "                text_sw_remover, # 5\n",
    "                text_count_vectorizer, # 6\n",
    "                text_tfidf, # 7\n",
    "                subject_str_indexer, # 8\n",
    "                vec_assembler, # 9\n",
    "                rf]) # 10 model"
   ]
  },
  {
   "cell_type": "code",
   "execution_count": 20,
   "metadata": {},
   "outputs": [],
   "source": [
    "train, test= data.randomSplit([0.8, 0.2])"
   ]
  },
  {
   "cell_type": "code",
   "execution_count": 21,
   "metadata": {},
   "outputs": [],
   "source": [
    "rf_model= rf_pipe.fit(train)"
   ]
  },
  {
   "cell_type": "code",
   "execution_count": 22,
   "metadata": {},
   "outputs": [],
   "source": [
    "from pyspark.ml.evaluation import  MulticlassClassificationEvaluator, BinaryClassificationEvaluator\n",
    "\n",
    "accuracy= MulticlassClassificationEvaluator(labelCol= 'fake', predictionCol= 'fake_predict', metricName= 'accuracy')\n",
    "f1= MulticlassClassificationEvaluator(labelCol= 'fake', predictionCol= 'fake_predict', metricName= 'f1')\n",
    "areaUnderROC= BinaryClassificationEvaluator(labelCol= 'fake', metricName= 'areaUnderROC')\n",
    "\n",
    "def classification_evaluator(data_result):\n",
    "    data_result.crosstab(col1= 'fake_predict', col2= 'fake').show()\n",
    "    print('accuracy:' ,accuracy.evaluate(data_result))\n",
    "    print('f1:' ,f1.evaluate(data_result))\n",
    "    print('areaUnderROC:' ,areaUnderROC.evaluate(data_result))"
   ]
  },
  {
   "cell_type": "code",
   "execution_count": 23,
   "metadata": {},
   "outputs": [],
   "source": [
    "from pyspark.ml.evaluation import  MulticlassClassificationEvaluator, BinaryClassificationEvaluator\n",
    "\n",
    "accuracy= MulticlassClassificationEvaluator(labelCol= 'fake', predictionCol= 'fake_predict', metricName= 'accuracy')\n",
    "f1= MulticlassClassificationEvaluator(labelCol= 'fake', predictionCol= 'fake_predict', metricName= 'f1')\n",
    "areaUnderROC= BinaryClassificationEvaluator(labelCol= 'fake', metricName= 'areaUnderROC')\n",
    "\n",
    "def classification_evaluator(data_result):\n",
    "    data_result.crosstab(col1= 'fake_predict', col2= 'fake').show()\n",
    "    print('accuracy:' ,accuracy.evaluate(data_result))\n",
    "    print('f1:' ,f1.evaluate(data_result))\n",
    "    print('areaUnderROC:' ,areaUnderROC.evaluate(data_result))"
   ]
  },
  {
   "cell_type": "code",
   "execution_count": 24,
   "metadata": {},
   "outputs": [],
   "source": [
    "rf_train_result= rf_model.transform(train)"
   ]
  },
  {
   "cell_type": "code",
   "execution_count": 25,
   "metadata": {},
   "outputs": [
    {
     "name": "stdout",
     "output_type": "stream",
     "text": [
      "+-----------------+-----+-----+\n",
      "|fake_predict_fake|    0|    1|\n",
      "+-----------------+-----+-----+\n",
      "|              1.0|   12|18787|\n",
      "|              0.0|17188|    6|\n",
      "+-----------------+-----+-----+\n",
      "\n",
      "accuracy: 0.9994999027588698\n",
      "f1: 0.9994998990479971\n",
      "areaUnderROC: 0.9999722543277506\n"
     ]
    }
   ],
   "source": [
    "classification_evaluator(rf_train_result)"
   ]
  },
  {
   "cell_type": "code",
   "execution_count": 26,
   "metadata": {},
   "outputs": [],
   "source": [
    "rf_test_result= rf_model.transform(test)"
   ]
  },
  {
   "cell_type": "code",
   "execution_count": 27,
   "metadata": {},
   "outputs": [
    {
     "name": "stdout",
     "output_type": "stream",
     "text": [
      "+-----------------+----+----+\n",
      "|fake_predict_fake|   0|   1|\n",
      "+-----------------+----+----+\n",
      "|              1.0|  96|4551|\n",
      "|              0.0|4121| 137|\n",
      "+-----------------+----+----+\n",
      "\n",
      "accuracy: 0.9738349241998877\n",
      "f1: 0.9738407548942973\n",
      "areaUnderROC: 0.991430574968374\n"
     ]
    }
   ],
   "source": [
    "classification_evaluator(rf_test_result)"
   ]
  },
  {
   "cell_type": "code",
   "execution_count": 28,
   "metadata": {},
   "outputs": [],
   "source": [
    "lrModel = rf_model.stages[10]\n",
    "trainingSummary = lrModel.summary"
   ]
  },
  {
   "cell_type": "code",
   "execution_count": 29,
   "metadata": {},
   "outputs": [
    {
     "ename": "AttributeError",
     "evalue": "'function' object has no attribute 'roc'",
     "output_type": "error",
     "traceback": [
      "\u001b[0;31m---------------------------------------------------------------------------\u001b[0m",
      "\u001b[0;31mAttributeError\u001b[0m                            Traceback (most recent call last)",
      "\u001b[0;32m<ipython-input-29-e13d64ea7037>\u001b[0m in \u001b[0;36m<module>\u001b[0;34m\u001b[0m\n\u001b[0;32m----> 1\u001b[0;31m \u001b[0mtrainingSummary\u001b[0m\u001b[0;34m.\u001b[0m\u001b[0mroc\u001b[0m\u001b[0;34m.\u001b[0m\u001b[0mshow\u001b[0m\u001b[0;34m(\u001b[0m\u001b[0;36m5\u001b[0m\u001b[0;34m)\u001b[0m\u001b[0;34m\u001b[0m\u001b[0;34m\u001b[0m\u001b[0m\n\u001b[0m\u001b[1;32m      2\u001b[0m \u001b[0mprint\u001b[0m\u001b[0;34m(\u001b[0m\u001b[0;34m\"areaUnderROC: \"\u001b[0m \u001b[0;34m+\u001b[0m \u001b[0mstr\u001b[0m\u001b[0;34m(\u001b[0m\u001b[0mtrainingSummary\u001b[0m\u001b[0;34m.\u001b[0m\u001b[0mareaUnderROC\u001b[0m\u001b[0;34m)\u001b[0m\u001b[0;34m)\u001b[0m\u001b[0;34m\u001b[0m\u001b[0;34m\u001b[0m\u001b[0m\n",
      "\u001b[0;31mAttributeError\u001b[0m: 'function' object has no attribute 'roc'"
     ]
    }
   ],
   "source": [
    "trainingSummary.roc.show(5)\n",
    "print(\"areaUnderROC: \" + str(trainingSummary.areaUnderROC))"
   ]
  },
  {
   "cell_type": "code",
   "execution_count": 30,
   "metadata": {},
   "outputs": [],
   "source": [
    "import matplotlib.pyplot as plt\n",
    "import numpy as np\n",
    "import itertools\n",
    "\n",
    "def plot_confusion_matrix(cm, classes,\n",
    "                          normalize=False,\n",
    "                          title='Confusion matrix',\n",
    "                          cmap=plt.cm.Blues):\n",
    "    \"\"\"\n",
    "    This function prints and plots the confusion matrix.\n",
    "    Normalization can be applied by setting `normalize=True`.\n",
    "    \"\"\"\n",
    "    if normalize:\n",
    "        cm = cm.astype('float') / cm.sum(axis=1)[:, np.newaxis]\n",
    "        print(\"Normalized confusion matrix\")\n",
    "    else:\n",
    "        print('Confusion matrix, without normalization')\n",
    "\n",
    "    print(cm)\n",
    "\n",
    "    plt.imshow(cm, interpolation='nearest', cmap=cmap)\n",
    "    plt.title(title)\n",
    "    plt.colorbar()\n",
    "    tick_marks = np.arange(len(classes))\n",
    "    plt.xticks(tick_marks, classes, rotation=45)\n",
    "    plt.yticks(tick_marks, classes)\n",
    "\n",
    "    fmt = '.2f' if normalize else 'd'\n",
    "    thresh = cm.max() / 2.\n",
    "    for i, j in itertools.product(range(cm.shape[0]), range(cm.shape[1])):\n",
    "        plt.text(j, i, format(cm[i, j], fmt),\n",
    "                 horizontalalignment=\"center\",\n",
    "                 color=\"white\" if cm[i, j] > thresh else \"black\")\n",
    "\n",
    "    plt.tight_layout()\n",
    "    plt.ylabel('True label')\n",
    "    plt.xlabel('Predicted label')"
   ]
  },
  {
   "cell_type": "code",
   "execution_count": 31,
   "metadata": {},
   "outputs": [
    {
     "name": "stdout",
     "output_type": "stream",
     "text": [
      "{'0': {'precision': 0.9996510410608351, 'recall': 0.9993023255813953, 'f1-score': 0.9994766529045763, 'support': 17200}, '1': {'precision': 0.999361668173839, 'recall': 0.9996807321875166, 'f1-score': 0.9995211747180252, 'support': 18793}, 'accuracy': 0.9994999027588698, 'macro avg': {'precision': 0.9995063546173371, 'recall': 0.9994915288844559, 'f1-score': 0.9994989138113007, 'support': 35993}, 'weighted avg': {'precision': 0.9994999509970638, 'recall': 0.9994999027588698, 'f1-score': 0.9994998990479972, 'support': 35993}}\n"
     ]
    }
   ],
   "source": [
    "import sklearn \n",
    "from pyspark.ml.classification import RandomForestClassifier\n",
    "\n",
    "\n",
    "predictions_train = rf_model.transform(train)\n",
    "\n",
    "y_true = predictions_train.select(['fake']).collect()\n",
    "y_pred = predictions_train.select(['fake_predict']).collect()\n",
    "\n",
    "from sklearn.metrics import classification_report, confusion_matrix\n",
    "print(classification_report(y_true, y_pred, output_dict=True))"
   ]
  },
  {
   "cell_type": "code",
   "execution_count": 32,
   "metadata": {},
   "outputs": [
    {
     "data": {
      "image/png": "[encoded data removed]",
      "text/plain": [
       "<Figure size 432x288 with 2 Axes>"
      ]
     },
     "metadata": {
      "needs_background": "light"
     },
     "output_type": "display_data"
    }
   ],
   "source": [
    "import seaborn as sns\n",
    "import matplotlib.pyplot as plt\n",
    "\n",
    "ax = plt.axes()\n",
    "sns.heatmap(pd.DataFrame(classification_report(y_true, y_pred, output_dict=True)).iloc[:-1, :].T,ax = ax, annot=True)\n",
    "ax.set_title('On Training Set')\n",
    "plt.show()"
   ]
  },
  {
   "cell_type": "code",
   "execution_count": 33,
   "metadata": {},
   "outputs": [
    {
     "name": "stdout",
     "output_type": "stream",
     "text": [
      "{'0': {'precision': 0.9678252700798496, 'recall': 0.9772350011856771, 'f1-score': 0.9725073746312685, 'support': 4217}, '1': {'precision': 0.9793415106520336, 'recall': 0.9707764505119454, 'f1-score': 0.9750401713979646, 'support': 4688}, 'accuracy': 0.9738349241998877, 'macro avg': {'precision': 0.9735833903659417, 'recall': 0.9740057258488113, 'f1-score': 0.9737737730146165, 'support': 8905}, 'weighted avg': {'precision': 0.9738879467561437, 'recall': 0.9738349241998877, 'f1-score': 0.9738407548942973, 'support': 8905}}\n"
     ]
    }
   ],
   "source": [
    "import sklearn \n",
    "from pyspark.ml.classification import RandomForestClassifier\n",
    "\n",
    "\n",
    "predictions_test = rf_model.transform(test)\n",
    "\n",
    "y_true = predictions_test.select(['fake']).collect()\n",
    "y_pred = predictions_test.select(['fake_predict']).collect()\n",
    "\n",
    "from sklearn.metrics import classification_report, confusion_matrix\n",
    "print(classification_report(y_true, y_pred, output_dict=True))"
   ]
  },
  {
   "cell_type": "code",
   "execution_count": 34,
   "metadata": {},
   "outputs": [
    {
     "data": {
      "image/png": "[encoded data removed]",
      "text/plain": [
       "<Figure size 432x288 with 2 Axes>"
      ]
     },
     "metadata": {
      "needs_background": "light"
     },
     "output_type": "display_data"
    }
   ],
   "source": [
    "import seaborn as sns\n",
    "import matplotlib.pyplot as plt\n",
    "\n",
    "ax = plt.axes()\n",
    "sns.heatmap(pd.DataFrame(classification_report(y_true, y_pred, output_dict=True)).iloc[:-1, :].T,ax = ax, annot=True)\n",
    "ax.set_title('On Testing Set')\n",
    "plt.show()"
   ]
  },
  {
   "cell_type": "code",
   "execution_count": 35,
   "metadata": {},
   "outputs": [
    {
     "data": {
      "text/plain": [
       "<map at 0x7f7c017439d0>"
      ]
     },
     "execution_count": 35,
     "metadata": {},
     "output_type": "execute_result"
    }
   ],
   "source": [
    "class_temp = rf_test_result.select(\"fake\").groupBy(\"fake\")\\\n",
    "                        .count().sort('count', ascending=False).toPandas()\n",
    "class_temp = class_temp[\"fake\"].values.tolist()\n",
    "class_names = map(str, class_temp)\n",
    "# # # print(class_name)\n",
    "class_names"
   ]
  },
  {
   "cell_type": "code",
   "execution_count": 36,
   "metadata": {},
   "outputs": [
    {
     "data": {
      "text/plain": [
       "array([[4121,   96],\n",
       "       [ 137, 4551]])"
      ]
     },
     "execution_count": 36,
     "metadata": {},
     "output_type": "execute_result"
    }
   ],
   "source": [
    "from sklearn.metrics import confusion_matrix\n",
    "y_true = rf_test_result.select(\"fake\")\n",
    "y_true = y_true.toPandas()\n",
    "\n",
    "y_pred = rf_test_result.select(\"fake_predict\")\n",
    "y_pred = y_pred.toPandas()\n",
    "\n",
    "cnf_matrix = confusion_matrix(y_true, y_pred)\n",
    "cnf_matrix"
   ]
  },
  {
   "cell_type": "code",
   "execution_count": 37,
   "metadata": {},
   "outputs": [
    {
     "name": "stdout",
     "output_type": "stream",
     "text": [
      "Confusion matrix, without normalization\n",
      "[[4121   96]\n",
      " [ 137 4551]]\n"
     ]
    },
    {
     "data": {
      "image/png": "[encoded data removed]",
      "text/plain": [
       "<Figure size 432x288 with 2 Axes>"
      ]
     },
     "metadata": {
      "needs_background": "light"
     },
     "output_type": "display_data"
    }
   ],
   "source": [
    "import matplotlib.pyplot as plt\n",
    "plt.figure()\n",
    "plot_confusion_matrix(cnf_matrix, classes=['Real', 'Fake'],\n",
    "                      title='Confusion matrix, without normalization')\n",
    "plt.show()"
   ]
  },
  {
   "cell_type": "code",
   "execution_count": null,
   "metadata": {},
   "outputs": [],
   "source": []
  }
 ],
 "metadata": {
  "kernelspec": {
   "display_name": "Python 3 (ipykernel)",
   "language": "python",
   "name": "python3"
  },
  "language_info": {
   "codemirror_mode": {
    "name": "ipython",
    "version": 3
   },
   "file_extension": ".py",
   "mimetype": "text/x-python",
   "name": "python",
   "nbconvert_exporter": "python",
   "pygments_lexer": "ipython3",
   "version": "3.9.10"
  }
 },
 "nbformat": 4,
 "nbformat_minor": 4
}

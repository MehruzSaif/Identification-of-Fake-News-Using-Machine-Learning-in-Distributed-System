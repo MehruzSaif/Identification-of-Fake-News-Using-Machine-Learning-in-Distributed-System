{
 "cells": [
  {
   "cell_type": "code",
   "execution_count": 1,
   "metadata": {
    "_cell_guid": "79c7e3d0-c299-4dcb-8224-4455121ee9b0",
    "_uuid": "d629ff2d2480ee46fbb7e2d37f6b5fab8052498a"
   },
   "outputs": [
    {
     "name": "stdout",
     "output_type": "stream",
     "text": [
      "Collecting pyspark\n",
      "  Downloading pyspark-3.1.1.tar.gz (212.3 MB)\n",
      "\u001b[K     |████████████████████████████████| 212.3 MB 13 kB/s s eta 0:00:01   |██▏                             | 14.7 MB 6.3 MB/s eta 0:00:32     |█████▋                          | 37.5 MB 11.9 MB/s eta 0:00:15     |████████████▍                   | 82.0 MB 20.6 MB/s eta 0:00:07     |█████████████▌                  | 89.9 MB 23.0 MB/s eta 0:00:06     |█████████████████               | 112.8 MB 17.2 MB/s eta 0:00:06     |███████████████████▌            | 129.1 MB 12.9 MB/s eta 0:00:07     |███████████████████▉            | 131.9 MB 12.9 MB/s eta 0:00:07     |█████████████████████████       | 166.2 MB 15.4 MB/s eta 0:00:03\n",
      "\u001b[?25hCollecting py4j==0.10.9\n",
      "  Downloading py4j-0.10.9-py2.py3-none-any.whl (198 kB)\n",
      "\u001b[K     |████████████████████████████████| 198 kB 53.3 MB/s eta 0:00:01\n",
      "\u001b[?25hBuilding wheels for collected packages: pyspark\n",
      "  Building wheel for pyspark (setup.py) ... \u001b[?25ldone\n",
      "\u001b[?25h  Created wheel for pyspark: filename=pyspark-3.1.1-py2.py3-none-any.whl size=212767604 sha256=b3198ed5ea15e7d3be6db2adc44eba62d6507c3094f603c6ee993c3776f4ff69\n",
      "  Stored in directory: /root/.cache/pip/wheels/fd/d2/1d/661fd740706117c29372aee63035c4048c27b5ae26690e7504\n",
      "Successfully built pyspark\n",
      "Installing collected packages: py4j, pyspark\n",
      "Successfully installed py4j-0.10.9 pyspark-3.1.1\n",
      "Reading package lists... Done\n",
      "Building dependency tree       \n",
      "Reading state information... Done\n",
      "E: Unable to locate package openjdk-11-jre-headless\n",
      "Reading package lists... Done\n",
      "Building dependency tree       \n",
      "Reading state information... Done\n",
      "openjdk-8-jdk is already the newest version (8u242-b08-1~deb9u1).\n",
      "openjdk-8-jdk set to manually installed.\n",
      "openjdk-8-jre is already the newest version (8u242-b08-1~deb9u1).\n",
      "openjdk-8-jre set to manually installed.\n",
      "0 upgraded, 0 newly installed, 0 to remove and 37 not upgraded.\n"
     ]
    }
   ],
   "source": [
    "!pip install pyspark\n",
    "! apt remove -y openjdk-11-jre-headless\n",
    "! apt install -y openjdk-8-jdk openjdk-8-jre"
   ]
  },
  {
   "cell_type": "code",
   "execution_count": 2,
   "metadata": {},
   "outputs": [],
   "source": [
    "import pandas as pd\n",
    "from pyspark import SparkContext\n",
    "from pyspark.sql import SparkSession, SQLContext\n",
    "\n",
    "sc= SparkContext(master= 'local', appName= 'Fake and real news')\n",
    "ss= SparkSession(sc)"
   ]
  },
  {
   "cell_type": "code",
   "execution_count": 3,
   "metadata": {},
   "outputs": [],
   "source": [
    "from pyspark.sql.types import StringType, StructField, StructType\n",
    "def read_data(path):\n",
    "  schema= StructType(\n",
    "      [StructField('title',StringType(),True),\n",
    "      StructField('text',StringType(),True),\n",
    "      StructField('subject',StringType(),True),\n",
    "      StructField('date',StringType(),True)])\n",
    "  pd_df= pd.read_csv(path)\n",
    "  sp_df= ss.createDataFrame(pd_df, schema= schema)\n",
    "  return sp_df"
   ]
  },
  {
   "cell_type": "code",
   "execution_count": 4,
   "metadata": {},
   "outputs": [],
   "source": [
    "path_true= '/kaggle/input/fake-and-real-news-dataset/True.csv'\n",
    "path_fake= '/kaggle/input/fake-and-real-news-dataset/Fake.csv'\n",
    "true_df= read_data(path_true)\n",
    "fake_df= read_data(path_fake)"
   ]
  },
  {
   "cell_type": "code",
   "execution_count": 5,
   "metadata": {},
   "outputs": [
    {
     "data": {
      "text/plain": [
       "21417"
      ]
     },
     "execution_count": 5,
     "metadata": {},
     "output_type": "execute_result"
    }
   ],
   "source": [
    "true_df.count()"
   ]
  },
  {
   "cell_type": "code",
   "execution_count": 6,
   "metadata": {},
   "outputs": [
    {
     "data": {
      "text/plain": [
       "23481"
      ]
     },
     "execution_count": 6,
     "metadata": {},
     "output_type": "execute_result"
    }
   ],
   "source": [
    "fake_df.count()"
   ]
  },
  {
   "cell_type": "code",
   "execution_count": 7,
   "metadata": {},
   "outputs": [],
   "source": [
    "from pyspark.sql.functions import lit, rand\n",
    "data= true_df.withColumn('fake', lit(0)).union(fake_df.withColumn('fake', lit(1))).orderBy(rand())"
   ]
  },
  {
   "cell_type": "code",
   "execution_count": 8,
   "metadata": {},
   "outputs": [
    {
     "name": "stdout",
     "output_type": "stream",
     "text": [
      "+----+-----+\n",
      "|fake|count|\n",
      "+----+-----+\n",
      "|   1|23481|\n",
      "|   0|21417|\n",
      "+----+-----+\n",
      "\n"
     ]
    }
   ],
   "source": [
    "data.groupBy('fake').count().show()"
   ]
  },
  {
   "cell_type": "code",
   "execution_count": 9,
   "metadata": {},
   "outputs": [
    {
     "name": "stdout",
     "output_type": "stream",
     "text": [
      "+---------------+\n",
      "|        subject|\n",
      "+---------------+\n",
      "|        US_News|\n",
      "|      left-news|\n",
      "|      worldnews|\n",
      "|       politics|\n",
      "|   politicsNews|\n",
      "|Government News|\n",
      "|    Middle-east|\n",
      "|           News|\n",
      "+---------------+\n",
      "\n"
     ]
    }
   ],
   "source": [
    "# Check the values of the subject column\n",
    "data.select('subject').distinct().show()"
   ]
  },
  {
   "cell_type": "code",
   "execution_count": 10,
   "metadata": {},
   "outputs": [
    {
     "name": "stdout",
     "output_type": "stream",
     "text": [
      "+--------------------+--------------------+------------+-----------------+----+\n",
      "|               title|                text|     subject|             date|fake|\n",
      "+--------------------+--------------------+------------+-----------------+----+\n",
      "| Trump LIVID Afte...|It was just a few...|        News|November 29, 2016|   1|\n",
      "|BOOM! TREY GOWDY ...|Trey Gowdy asked ...|   left-news|     May 23, 2017|   1|\n",
      "|Astroturfing: Jou...|Vic Bishop Waking...|     US_News| January 19, 2016|   1|\n",
      "|EMBARRASSING: Oba...|President Barack ...|   left-news|      Dec 7, 2016|   1|\n",
      "|Abe hopes to avoi...|(Reuters) - With ...|politicsNews|February 9, 2017 |   0|\n",
      "+--------------------+--------------------+------------+-----------------+----+\n",
      "only showing top 5 rows\n",
      "\n"
     ]
    }
   ],
   "source": [
    "data.show(5)"
   ]
  },
  {
   "cell_type": "code",
   "execution_count": 11,
   "metadata": {},
   "outputs": [],
   "source": [
    "from pyspark.ml.feature import SQLTransformer, RegexTokenizer, StopWordsRemover, CountVectorizer, Imputer, IDF\n",
    "from pyspark.ml.feature import StringIndexer, VectorAssembler\n",
    "StopWordsRemover.loadDefaultStopWords('english')\n",
    "\n",
    "# 0. Extract tokens from title\n",
    "title_tokenizer= RegexTokenizer(inputCol= 'title', outputCol= 'title_words',\n",
    "                                pattern= '\\\\W', toLowercase= True)\n",
    "# 1. Remove stop words from title\n",
    "title_sw_remover= StopWordsRemover(inputCol= 'title_words', outputCol= 'title_sw_removed')\n",
    "# 2. Compute Term frequency from title\n",
    "title_count_vectorizer= CountVectorizer(inputCol= 'title_sw_removed', outputCol= 'tf_title')\n",
    "# 3. Compute Term frequency-inverse document frequency from title\n",
    "title_tfidf= IDF(inputCol= 'tf_title', outputCol= 'tf_idf_title')\n",
    "# 4. Extract tokens from text\n",
    "text_tokenizer= RegexTokenizer(inputCol= 'text', outputCol= 'text_words',\n",
    "                                pattern= '\\\\W', toLowercase= True)\n",
    "# 5. Remove stop words from text\n",
    "text_sw_remover= StopWordsRemover(inputCol= 'text_words', outputCol= 'text_sw_removed')\n",
    "# 6. Compute Term frequency from text\n",
    "text_count_vectorizer= CountVectorizer(inputCol= 'text_sw_removed', outputCol= 'tf_text')\n",
    "# 7. Compute Term frequency-inverse document frequency text\n",
    "text_tfidf= IDF(inputCol= 'tf_text', outputCol= 'tf_idf_text')\n",
    "# 8. StringIndexer subject\n",
    "subject_str_indexer= StringIndexer(inputCol= 'subject', outputCol= 'subject_idx')\n",
    "# 9. VectorAssembler\n",
    "vec_assembler= VectorAssembler(inputCols=['tf_idf_title', 'tf_idf_text', 'subject_idx'], outputCol= 'features')"
   ]
  },
  {
   "cell_type": "code",
   "execution_count": 12,
   "metadata": {},
   "outputs": [],
   "source": [
    "from pyspark.ml.classification import RandomForestClassifier\n",
    "rf= RandomForestClassifier(featuresCol= 'features', labelCol= 'fake', predictionCol= 'fake_predict', maxDepth= 7, numTrees= 20)"
   ]
  },
  {
   "cell_type": "code",
   "execution_count": 13,
   "metadata": {},
   "outputs": [],
   "source": [
    "from pyspark.ml import Pipeline\n",
    "rf_pipe= Pipeline(stages=[title_tokenizer, # 0\n",
    "                title_sw_remover, # 1\n",
    "                title_count_vectorizer, # 2\n",
    "                title_tfidf, # 3\n",
    "                text_tokenizer, # 4\n",
    "                text_sw_remover, # 5\n",
    "                text_count_vectorizer, # 6\n",
    "                text_tfidf, # 7\n",
    "                subject_str_indexer, # 8\n",
    "                vec_assembler, # 9\n",
    "                rf]) # 10 model"
   ]
  },
  {
   "cell_type": "code",
   "execution_count": 14,
   "metadata": {},
   "outputs": [],
   "source": [
    "train, test= data.randomSplit([0.8, 0.2])"
   ]
  },
  {
   "cell_type": "code",
   "execution_count": 15,
   "metadata": {},
   "outputs": [],
   "source": [
    "rf_model= rf_pipe.fit(train)"
   ]
  },
  {
   "cell_type": "code",
   "execution_count": 16,
   "metadata": {},
   "outputs": [],
   "source": [
    "from pyspark.ml.evaluation import  MulticlassClassificationEvaluator, BinaryClassificationEvaluator\n",
    "\n",
    "accuracy= MulticlassClassificationEvaluator(labelCol= 'fake', predictionCol= 'fake_predict', metricName= 'accuracy')\n",
    "f1= MulticlassClassificationEvaluator(labelCol= 'fake', predictionCol= 'fake_predict', metricName= 'f1')\n",
    "areaUnderROC= BinaryClassificationEvaluator(labelCol= 'fake', metricName= 'areaUnderROC')\n",
    "\n",
    "def classification_evaluator(data_result):\n",
    "    data_result.crosstab(col1= 'fake_predict', col2= 'fake').show()\n",
    "    print('accuracy:' ,accuracy.evaluate(data_result))\n",
    "    print('f1:' ,f1.evaluate(data_result))\n",
    "    print('areaUnderROC:' ,areaUnderROC.evaluate(data_result))"
   ]
  },
  {
   "cell_type": "code",
   "execution_count": 17,
   "metadata": {},
   "outputs": [],
   "source": [
    "# Predict on training data set\n",
    "rf_train_result= rf_model.transform(train)"
   ]
  },
  {
   "cell_type": "code",
   "execution_count": 18,
   "metadata": {},
   "outputs": [
    {
     "name": "stdout",
     "output_type": "stream",
     "text": [
      "+-----------------+-----+-----+\n",
      "|fake_predict_fake|    0|    1|\n",
      "+-----------------+-----+-----+\n",
      "|              1.0| 1106|18069|\n",
      "|              0.0|15924|  736|\n",
      "+-----------------+-----+-----+\n",
      "\n",
      "accuracy: 0.9485977396400167\n",
      "f1: 0.9485658569272747\n",
      "areaUnderROC: 0.9895893166305042\n"
     ]
    }
   ],
   "source": [
    "classification_evaluator(rf_train_result)"
   ]
  },
  {
   "cell_type": "code",
   "execution_count": 19,
   "metadata": {},
   "outputs": [],
   "source": [
    "# Predict on test data set\n",
    "rf_test_result= rf_model.transform(test)"
   ]
  },
  {
   "cell_type": "code",
   "execution_count": 20,
   "metadata": {},
   "outputs": [
    {
     "name": "stdout",
     "output_type": "stream",
     "text": [
      "+-----------------+----+----+\n",
      "|fake_predict_fake|   0|   1|\n",
      "+-----------------+----+----+\n",
      "|              1.0| 322|4485|\n",
      "|              0.0|4065| 191|\n",
      "+-----------------+----+----+\n",
      "\n",
      "accuracy: 0.9433962264150944\n",
      "f1: 0.9433582288552546\n",
      "areaUnderROC: 0.9879372779401323\n"
     ]
    }
   ],
   "source": [
    "classification_evaluator(rf_test_result)"
   ]
  },
  {
   "cell_type": "code",
   "execution_count": 21,
   "metadata": {},
   "outputs": [],
   "source": [
    "lrModel = rf_model.stages[10]\n",
    "trainingSummary = lrModel.summary"
   ]
  },
  {
   "cell_type": "code",
   "execution_count": 22,
   "metadata": {},
   "outputs": [
    {
     "name": "stdout",
     "output_type": "stream",
     "text": [
      "+---+--------------------+\n",
      "|FPR|                 TPR|\n",
      "+---+--------------------+\n",
      "|0.0|                 0.0|\n",
      "|0.0|0.002020739165115661|\n",
      "|0.0|0.004094655676681733|\n",
      "|0.0|0.005902685455995746|\n",
      "|0.0|0.007710715235309758|\n",
      "+---+--------------------+\n",
      "only showing top 5 rows\n",
      "\n",
      "areaUnderROC: 0.9895924220251642\n"
     ]
    }
   ],
   "source": [
    "trainingSummary.roc.show(5)\n",
    "print(\"areaUnderROC: \" + str(trainingSummary.areaUnderROC))"
   ]
  },
  {
   "cell_type": "code",
   "execution_count": 23,
   "metadata": {},
   "outputs": [],
   "source": [
    "fMeasure = trainingSummary.fMeasureByThreshold\n",
    "maxFMeasure = fMeasure.groupBy().max('F-Measure').select('max(F-Measure)').head(5)"
   ]
  },
  {
   "cell_type": "code",
   "execution_count": 24,
   "metadata": {},
   "outputs": [
    {
     "data": {
      "image/png": "[encoded data removed]",
      "text/plain": [
       "<Figure size 360x360 with 1 Axes>"
      ]
     },
     "metadata": {
      "needs_background": "light"
     },
     "output_type": "display_data"
    }
   ],
   "source": [
    "import matplotlib.pyplot as plt\n",
    "plt.figure(figsize=(5,5))\n",
    "plt.plot([0, 1], [0, 1], 'r--')\n",
    "plt.plot(trainingSummary.roc.select('FPR').collect(),\n",
    "         trainingSummary.roc.select('TPR').collect())\n",
    "plt.xlabel('FPR')\n",
    "plt.ylabel('TPR')\n",
    "plt.show()"
   ]
  },
  {
   "cell_type": "code",
   "execution_count": 25,
   "metadata": {},
   "outputs": [],
   "source": [
    "import matplotlib.pyplot as plt\n",
    "import numpy as np\n",
    "import itertools\n",
    "\n",
    "def plot_confusion_matrix(cm, classes,\n",
    "                          normalize=False,\n",
    "                          title='Confusion matrix',\n",
    "                          cmap=plt.cm.Blues):\n",
    "    \"\"\"\n",
    "    This function prints and plots the confusion matrix.\n",
    "    Normalization can be applied by setting `normalize=True`.\n",
    "    \"\"\"\n",
    "    if normalize:\n",
    "        cm = cm.astype('float') / cm.sum(axis=1)[:, np.newaxis]\n",
    "        print(\"Normalized confusion matrix\")\n",
    "    else:\n",
    "        print('Confusion matrix, without normalization')\n",
    "\n",
    "    print(cm)\n",
    "\n",
    "    plt.imshow(cm, interpolation='nearest', cmap=cmap)\n",
    "    plt.title(title)\n",
    "    plt.colorbar()\n",
    "    tick_marks = np.arange(len(classes))\n",
    "    plt.xticks(tick_marks, classes, rotation=45)\n",
    "    plt.yticks(tick_marks, classes)\n",
    "\n",
    "    fmt = '.2f' if normalize else 'd'\n",
    "    thresh = cm.max() / 2.\n",
    "    for i, j in itertools.product(range(cm.shape[0]), range(cm.shape[1])):\n",
    "        plt.text(j, i, format(cm[i, j], fmt),\n",
    "                 horizontalalignment=\"center\",\n",
    "                 color=\"white\" if cm[i, j] > thresh else \"black\")\n",
    "\n",
    "    plt.tight_layout()\n",
    "    plt.ylabel('True label')\n",
    "    plt.xlabel('Predicted label')"
   ]
  },
  {
   "cell_type": "code",
   "execution_count": 26,
   "metadata": {},
   "outputs": [
    {
     "name": "stdout",
     "output_type": "stream",
     "text": [
      "{'0': {'precision': 0.9558223289315726, 'recall': 0.9350557839107457, 'f1-score': 0.9453250222617986, 'support': 17030}, '1': {'precision': 0.9423207301173403, 'recall': 0.9608614730124967, 'f1-score': 0.9515007898894154, 'support': 18805}, 'accuracy': 0.9485977396400167, 'macro avg': {'precision': 0.9490715295244565, 'recall': 0.9479586284616213, 'f1-score': 0.948412906075607, 'support': 35835}, 'weighted avg': {'precision': 0.9487371450135695, 'recall': 0.9485977396400167, 'f1-score': 0.9485658569272747, 'support': 35835}}\n"
     ]
    }
   ],
   "source": [
    "import sklearn \n",
    "from pyspark.ml.classification import RandomForestClassifier\n",
    "\n",
    "\n",
    "predictions_train = rf_model.transform(train)\n",
    "\n",
    "y_true = predictions_train.select(['fake']).collect()\n",
    "y_pred = predictions_train.select(['fake_predict']).collect()\n",
    "\n",
    "from sklearn.metrics import classification_report, confusion_matrix\n",
    "print(classification_report(y_true, y_pred, output_dict=True))"
   ]
  },
  {
   "cell_type": "code",
   "execution_count": 30,
   "metadata": {},
   "outputs": [
    {
     "data": {
      "image/png": "[encoded data removed]",
      "text/plain": [
       "<Figure size 432x288 with 2 Axes>"
      ]
     },
     "metadata": {
      "needs_background": "light"
     },
     "output_type": "display_data"
    }
   ],
   "source": [
    "import seaborn as sns\n",
    "import matplotlib.pyplot as plt\n",
    "\n",
    "ax = plt.axes()\n",
    "sns.heatmap(pd.DataFrame(classification_report(y_true, y_pred, output_dict=True)).iloc[:-1, :].T,ax = ax, annot=True)\n",
    "ax.set_title('On Training Set')\n",
    "plt.show()"
   ]
  },
  {
   "cell_type": "code",
   "execution_count": 32,
   "metadata": {},
   "outputs": [
    {
     "name": "stdout",
     "output_type": "stream",
     "text": [
      "{'0': {'precision': 0.9551221804511278, 'recall': 0.9266013220879873, 'f1-score': 0.9406456091634849, 'support': 4387}, '1': {'precision': 0.9330143540669856, 'recall': 0.9591531223267751, 'f1-score': 0.9459031951913951, 'support': 4676}, 'accuracy': 0.9433962264150944, 'macro avg': {'precision': 0.9440682672590568, 'recall': 0.9428772222073811, 'f1-score': 0.94327440217744, 'support': 9063}, 'weighted avg': {'precision': 0.9437157812265612, 'recall': 0.9433962264150944, 'f1-score': 0.9433582288552546, 'support': 9063}}\n"
     ]
    }
   ],
   "source": [
    "import sklearn \n",
    "from pyspark.ml.classification import RandomForestClassifier\n",
    "\n",
    "\n",
    "predictions_test = rf_model.transform(test)\n",
    "\n",
    "y_true = predictions_test.select(['fake']).collect()\n",
    "y_pred = predictions_test.select(['fake_predict']).collect()\n",
    "\n",
    "from sklearn.metrics import classification_report, confusion_matrix\n",
    "print(classification_report(y_true, y_pred, output_dict=True))"
   ]
  },
  {
   "cell_type": "code",
   "execution_count": 33,
   "metadata": {},
   "outputs": [
    {
     "data": {
      "image/png": "[encoded data removed]",
      "text/plain": [
       "<Figure size 432x288 with 2 Axes>"
      ]
     },
     "metadata": {
      "needs_background": "light"
     },
     "output_type": "display_data"
    }
   ],
   "source": [
    "import seaborn as sns\n",
    "import matplotlib.pyplot as plt\n",
    "\n",
    "ax = plt.axes()\n",
    "sns.heatmap(pd.DataFrame(classification_report(y_true, y_pred, output_dict=True)).iloc[:-1, :].T,ax = ax, annot=True)\n",
    "ax.set_title('On Testing Set')\n",
    "plt.show()"
   ]
  },
  {
   "cell_type": "code",
   "execution_count": 34,
   "metadata": {},
   "outputs": [
    {
     "data": {
      "text/plain": [
       "<map at 0x7f6213bed8d0>"
      ]
     },
     "execution_count": 34,
     "metadata": {},
     "output_type": "execute_result"
    }
   ],
   "source": [
    "class_temp = rf_test_result.select(\"fake\").groupBy(\"fake\")\\\n",
    "                        .count().sort('count', ascending=False).toPandas()\n",
    "class_temp = class_temp[\"fake\"].values.tolist()\n",
    "class_names = map(str, class_temp)\n",
    "# # # print(class_name)\n",
    "class_names"
   ]
  },
  {
   "cell_type": "code",
   "execution_count": 47,
   "metadata": {},
   "outputs": [
    {
     "data": {
      "text/plain": [
       "array([[4065,  322],\n",
       "       [ 191, 4485]])"
      ]
     },
     "execution_count": 47,
     "metadata": {},
     "output_type": "execute_result"
    }
   ],
   "source": [
    "from sklearn.metrics import confusion_matrix\n",
    "y_true = rf_test_result.select(\"fake\")\n",
    "y_true = y_true.toPandas()\n",
    "\n",
    "y_pred = rf_test_result.select(\"fake_predict\")\n",
    "y_pred = y_pred.toPandas()\n",
    "\n",
    "cnf_matrix = confusion_matrix(y_true, y_pred)\n",
    "cnf_matrix"
   ]
  },
  {
   "cell_type": "code",
   "execution_count": 48,
   "metadata": {},
   "outputs": [
    {
     "name": "stdout",
     "output_type": "stream",
     "text": [
      "Confusion matrix, without normalization\n",
      "[[4065  322]\n",
      " [ 191 4485]]\n"
     ]
    },
    {
     "data": {
      "image/png": "[encoded data removed]",
      "text/plain": [
       "<Figure size 432x288 with 2 Axes>"
      ]
     },
     "metadata": {
      "needs_background": "light"
     },
     "output_type": "display_data"
    }
   ],
   "source": [
    "import matplotlib.pyplot as plt\n",
    "plt.figure()\n",
    "plot_confusion_matrix(cnf_matrix, classes=['Real', 'Fake'],\n",
    "                      title='Confusion matrix, without normalization')\n",
    "plt.show()"
   ]
  },
  {
   "cell_type": "code",
   "execution_count": null,
   "metadata": {},
   "outputs": [],
   "source": []
  },
  {
   "cell_type": "code",
   "execution_count": null,
   "metadata": {},
   "outputs": [],
   "source": []
  },
  {
   "cell_type": "code",
   "execution_count": null,
   "metadata": {},
   "outputs": [],
   "source": []
  },
  {
   "cell_type": "code",
   "execution_count": null,
   "metadata": {},
   "outputs": [],
   "source": []
  },
  {
   "cell_type": "code",
   "execution_count": null,
   "metadata": {},
   "outputs": [],
   "source": []
  },
  {
   "cell_type": "code",
   "execution_count": null,
   "metadata": {},
   "outputs": [],
   "source": []
  },
  {
   "cell_type": "code",
   "execution_count": null,
   "metadata": {},
   "outputs": [],
   "source": []
  },
  {
   "cell_type": "code",
   "execution_count": null,
   "metadata": {},
   "outputs": [],
   "source": []
  },
  {
   "cell_type": "code",
   "execution_count": null,
   "metadata": {},
   "outputs": [],
   "source": []
  },
  {
   "cell_type": "code",
   "execution_count": null,
   "metadata": {},
   "outputs": [],
   "source": []
  }
 ],
 "metadata": {
  "kernelspec": {
   "display_name": "Python 3 (ipykernel)",
   "language": "python",
   "name": "python3"
  },
  "language_info": {
   "codemirror_mode": {
    "name": "ipython",
    "version": 3
   },
   "file_extension": ".py",
   "mimetype": "text/x-python",
   "name": "python",
   "nbconvert_exporter": "python",
   "pygments_lexer": "ipython3",
   "version": "3.9.10"
  }
 },
 "nbformat": 4,
 "nbformat_minor": 4
}
